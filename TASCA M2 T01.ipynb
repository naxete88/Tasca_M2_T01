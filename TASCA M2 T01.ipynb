{
 "cells": [
  {
   "cell_type": "markdown",
   "id": "01bb3b03",
   "metadata": {},
   "source": [
    "# Exercici 1\n",
    "## Crea una llista que agrupi els mesos de l'any en trimestres (1T: gener febrer, març; 2T: abril, maig, juny...) és a dir, una llista amb 4 llistes dins.\n"
   ]
  },
  {
   "cell_type": "code",
   "execution_count": 108,
   "id": "9835280c",
   "metadata": {},
   "outputs": [
    {
     "name": "stdout",
     "output_type": "stream",
     "text": [
      "[['gener', 'febrer', 'març'], ['abril', 'maig', 'juny'], ['juliol', 'agost', 'setembre'], ['octubre', 'novembre', 'desembre']]\n"
     ]
    }
   ],
   "source": [
    "trimestres = [[\"gener\", \"febrer\", \"març\"],\n",
    "[\"abril\",\"maig\",\"juny\"],\n",
    "[\"juliol\",\"agost\",\"setembre\"],\n",
    "[\"octubre\",\"novembre\",\"desembre\"]]\n",
    "print(trimestres)"
   ]
  },
  {
   "cell_type": "markdown",
   "id": "752460d7",
   "metadata": {},
   "source": [
    "# Exercici 2\n",
    "## Crea un codi que et permeti accedir a:\n"
   ]
  },
  {
   "cell_type": "code",
   "execution_count": 109,
   "id": "e350e655",
   "metadata": {},
   "outputs": [
    {
     "name": "stdout",
     "output_type": "stream",
     "text": [
      "febrer\n"
     ]
    }
   ],
   "source": [
    "# el segon mes del primer trimestre\n",
    "\n",
    "print(trimestres[0][1])\n"
   ]
  },
  {
   "cell_type": "code",
   "execution_count": 110,
   "id": "921fcbbb",
   "metadata": {},
   "outputs": [
    {
     "name": "stdout",
     "output_type": "stream",
     "text": [
      "['gener', 'febrer', 'març']\n"
     ]
    }
   ],
   "source": [
    "# els mesos del primer trimestre\n",
    "\n",
    "print(trimestres[0])"
   ]
  },
  {
   "cell_type": "code",
   "execution_count": 111,
   "id": "771e0d25",
   "metadata": {},
   "outputs": [
    {
     "name": "stdout",
     "output_type": "stream",
     "text": [
      "setembre i octubre\n"
     ]
    }
   ],
   "source": [
    "# setembre i octubre\n",
    "print((trimestres[2][2])+\" i \"+(trimestres [3][0]))"
   ]
  },
  {
   "cell_type": "markdown",
   "id": "fae2946e",
   "metadata": {},
   "source": [
    "# Exercici 3\n",
    "## Crea una llista amb nombres desordenats i respon a les següents preguntes.\n"
   ]
  },
  {
   "cell_type": "code",
   "execution_count": 112,
   "id": "5631d0d9",
   "metadata": {},
   "outputs": [],
   "source": [
    "listnum = [9, 5, 8, 1, 6, 3, 4, 8, 10, 2, 7, 3]\n"
   ]
  },
  {
   "cell_type": "code",
   "execution_count": 113,
   "id": "0bb91a6a",
   "metadata": {},
   "outputs": [
    {
     "name": "stdout",
     "output_type": "stream",
     "text": [
      "12\n"
     ]
    }
   ],
   "source": [
    "# ¿Quants números hi ha?\n",
    "\n",
    "x = len(listnum)\n",
    "print(x)"
   ]
  },
  {
   "cell_type": "code",
   "execution_count": 114,
   "id": "f50c73d7",
   "metadata": {},
   "outputs": [
    {
     "name": "stdout",
     "output_type": "stream",
     "text": [
      "El número 3 es repeteix 2 vegades\n"
     ]
    }
   ],
   "source": [
    "# ¿Quantes vegades apareix el número 3?\n",
    "\n",
    "count = listnum.count(3)\n",
    "print('El número 3 es repeteix', count ,'vegades')"
   ]
  },
  {
   "cell_type": "code",
   "execution_count": 115,
   "id": "c96adc62",
   "metadata": {},
   "outputs": [
    {
     "name": "stdout",
     "output_type": "stream",
     "text": [
      "Els numeros 3 i 4 es repeteixen 3 vegades\n"
     ]
    }
   ],
   "source": [
    "# ¿Quantes vegades apareixen els nombres 3 i 4?\n",
    "\n",
    "count3 = listnum.count(3)\n",
    "count4 = listnum.count(4)\n",
    "countTotal = count3 + count4\n",
    "print('Els numeros 3 i 4 es repeteixen', countTotal, 'vegades')"
   ]
  },
  {
   "cell_type": "code",
   "execution_count": 116,
   "id": "dd2091c2",
   "metadata": {},
   "outputs": [
    {
     "name": "stdout",
     "output_type": "stream",
     "text": [
      "10\n"
     ]
    }
   ],
   "source": [
    "# Quin és el número més gran?\n",
    "\n",
    "listnum.sort()\n",
    "print(listnum[-1])"
   ]
  },
  {
   "cell_type": "code",
   "execution_count": 117,
   "id": "5298daed",
   "metadata": {},
   "outputs": [
    {
     "name": "stdout",
     "output_type": "stream",
     "text": [
      "[1, 2, 3]\n"
     ]
    }
   ],
   "source": [
    "# Quins són els 3 números més petits?\n",
    "\n",
    "listnum.sort()\n",
    "print(listnum[:3])"
   ]
  },
  {
   "cell_type": "code",
   "execution_count": 118,
   "id": "7b4d3636",
   "metadata": {},
   "outputs": [
    {
     "name": "stdout",
     "output_type": "stream",
     "text": [
      "el rang de la lista és  9\n"
     ]
    }
   ],
   "source": [
    "# Quin és el rang d'aquesta llista?\n",
    "\n",
    "numMin = min(listnum)\n",
    "numMax = max(listnum)\n",
    "rang = numMax - numMin\n",
    "print('el rang de la lista és ', rang,)\n"
   ]
  },
  {
   "cell_type": "markdown",
   "id": "8d5c6a71",
   "metadata": {},
   "source": [
    "# Exercici 4\n",
    "## Crea un diccionari de la següent forma i respon les preguntes:\n"
   ]
  },
  {
   "cell_type": "code",
   "execution_count": 102,
   "id": "2e1be03d",
   "metadata": {},
   "outputs": [],
   "source": [
    "compra = {\"Pomes\" : {\"Qty\" : 5, \"€\" : 0.42},\"Peres\" : {\"Qty\" : 3, \"€\" : 0.66}}\n"
   ]
  },
  {
   "cell_type": "code",
   "execution_count": 103,
   "id": "1dc2ac9d",
   "metadata": {},
   "outputs": [
    {
     "name": "stdout",
     "output_type": "stream",
     "text": [
      "{'Pomes': {'Qty': 5, '€': 0.42}, 'Peres': {'Qty': 3, '€': 0.66}, 'Taronjes': {'Qty': 7, '€': 0.3}}\n"
     ]
    }
   ],
   "source": [
    "# Afegeix una fruita més\n",
    "\n",
    "compra[\"Taronjes\"] = {\"Qty\" : 7, \"€\" : 0.30 }\n",
    "print(compra)\n"
   ]
  },
  {
   "cell_type": "code",
   "execution_count": 104,
   "id": "ebc16bd3",
   "metadata": {},
   "outputs": [
    {
     "name": "stdout",
     "output_type": "stream",
     "text": [
      "les peres han costat 1.98 €\n"
     ]
    }
   ],
   "source": [
    "# Quant han costat les peres en total?\n",
    "\n",
    "preuTotalPeres = compra.get(\"Peres\").get(\"Qty\") * compra.get(\"Peres\").get(\"€\")\n",
    "print('les peres han costat',preuTotalPeres,'€')"
   ]
  },
  {
   "cell_type": "code",
   "execution_count": 105,
   "id": "fee4ef3d",
   "metadata": {},
   "outputs": [
    {
     "name": "stdout",
     "output_type": "stream",
     "text": [
      "hem comprat en total 15 fruites\n"
     ]
    }
   ],
   "source": [
    "# Quantes fruites hem comprat en total?\n",
    "\n",
    "quantitatTotal = compra.get(\"Pomes\").get(\"Qty\") + compra.get(\"Peres\").get(\"Qty\") + compra.get(\"Taronjes\").get(\"Qty\")\n",
    "print('hem comprat en total',quantitatTotal,'fruites')"
   ]
  },
  {
   "cell_type": "code",
   "execution_count": 106,
   "id": "bd567263",
   "metadata": {},
   "outputs": [
    {
     "name": "stdout",
     "output_type": "stream",
     "text": [
      "la fruita més cara son les Peres amb un preu de 0.66 €\n"
     ]
    }
   ],
   "source": [
    "# Quina és la fruita més cara? \n",
    "\n",
    "\n",
    "preu_mes_alt = max([float(i[\"€\"]) for i in compra.values()])\n",
    "\n",
    "fruita_mes_cara = max(compra.keys(), key= lambda x: compra[x][\"€\"])\n",
    "\n",
    "print('la fruita més cara son les',fruita_mes_cara,'amb un preu de',preu_mes_alt,'€')"
   ]
  },
  {
   "cell_type": "code",
   "execution_count": null,
   "id": "06ff374b",
   "metadata": {},
   "outputs": [],
   "source": []
  }
 ],
 "metadata": {
  "kernelspec": {
   "display_name": "Python 3 (ipykernel)",
   "language": "python",
   "name": "python3"
  },
  "language_info": {
   "codemirror_mode": {
    "name": "ipython",
    "version": 3
   },
   "file_extension": ".py",
   "mimetype": "text/x-python",
   "name": "python",
   "nbconvert_exporter": "python",
   "pygments_lexer": "ipython3",
   "version": "3.9.12"
  }
 },
 "nbformat": 4,
 "nbformat_minor": 5
}
